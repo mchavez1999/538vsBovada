{
 "cells": [
  {
   "cell_type": "markdown",
   "metadata": {},
   "source": [
    "First step for me will be figuring out the best method to data scrape bovada.\n"
   ]
  },
  {
   "cell_type": "code",
   "execution_count": 55,
   "metadata": {},
   "outputs": [
    {
     "name": "stdout",
     "output_type": "stream",
     "text": [
      "Requirement already satisfied: lxml in /opt/conda/lib/python3.8/site-packages (4.5.2)\r\n"
     ]
    }
   ],
   "source": [
    "import requests\n",
    "import pandas as pd\n",
    "import sys\n",
    "import numpy as np\n",
    "!{sys.executable} -m pip install lxml\n",
    "from bs4 import BeautifulSoup as bs\n",
    "import time\n",
    "from datetime import datetime, date\n",
    "# return BS html object from a url\n",
    "def html_of(x):\n",
    "    headers = {'user-agent':'Mozilla/5.0 (Macintosh; Intel Mac OS X 10_15_6) AppleWebKit/605.1.15 (KHTML, like Gecko) Version/14.0 Safari/605.1.15'}\n",
    "\n",
    "    fp =requests.get(x, headers = headers)\n",
    "    html = bs(fp.text)\n",
    "    return html\n",
    "def epoch_to_dt(epoch):\n",
    "    return datetime.fromtimestamp(epoch/1000)"
   ]
  },
  {
   "cell_type": "code",
   "execution_count": 56,
   "metadata": {},
   "outputs": [],
   "source": [
    " headers = {'user-agent':'Mozilla/5.0 (Macintosh; Intel Mac OS X 10_15_6) AppleWebKit/605.1.15 (KHTML, like Gecko) Version/14.0 Safari/605.1.15'}\n",
    "data = requests.get(\"https://www.bovada.lv/services/sports/event/v2/events/A/description/football/nfl\", headers = headers).json()"
   ]
  },
  {
   "cell_type": "code",
   "execution_count": 57,
   "metadata": {},
   "outputs": [],
   "source": [
    "data = data[0]"
   ]
  },
  {
   "cell_type": "code",
   "execution_count": 58,
   "metadata": {},
   "outputs": [],
   "source": [
    "data = data['events']"
   ]
  },
  {
   "cell_type": "code",
   "execution_count": 59,
   "metadata": {},
   "outputs": [
    {
     "data": {
      "text/plain": [
       "datetime.datetime(2020, 10, 9, 0, 20)"
      ]
     },
     "execution_count": 59,
     "metadata": {},
     "output_type": "execute_result"
    }
   ],
   "source": [
    "time = epoch_to_dt(data[0]['startTime'])\n",
    "time"
   ]
  },
  {
   "cell_type": "code",
   "execution_count": 60,
   "metadata": {},
   "outputs": [],
   "source": [
    "data = data[0]['displayGroups']"
   ]
  },
  {
   "cell_type": "code",
   "execution_count": 61,
   "metadata": {},
   "outputs": [
    {
     "data": {
      "text/plain": [
       "8"
      ]
     },
     "execution_count": 61,
     "metadata": {},
     "output_type": "execute_result"
    }
   ],
   "source": [
    "len(data)"
   ]
  },
  {
   "cell_type": "code",
   "execution_count": 62,
   "metadata": {},
   "outputs": [
    {
     "data": {
      "text/plain": [
       "{'id': '100-95',\n",
       " 'description': 'Defense/Special Teams Props',\n",
       " 'defaultType': False,\n",
       " 'alternateType': True,\n",
       " 'markets': [{'id': '129208709',\n",
       "   'descriptionKey': 'Will a Special Teams or Defensive TD be scored?',\n",
       "   'description': 'Will a Special Teams or Defensive TD be scored?',\n",
       "   'key': 'GAME-PROP-12',\n",
       "   'marketTypeId': '-833',\n",
       "   'status': 'O',\n",
       "   'singleOnly': False,\n",
       "   'notes': 'A fake FG or fake Punt which results in a TD by the team that snapped the ball is considered an offensive TD.',\n",
       "   'period': {'id': '119',\n",
       "    'description': 'Match',\n",
       "    'abbreviation': 'M',\n",
       "    'live': False,\n",
       "    'main': True},\n",
       "   'outcomes': [{'id': '695531998',\n",
       "     'description': 'Yes',\n",
       "     'status': 'O',\n",
       "     'type': 'X',\n",
       "     'price': {'id': '6186873440',\n",
       "      'american': '+200',\n",
       "      'decimal': '3.00',\n",
       "      'fractional': '2/1',\n",
       "      'malay': '-0.50',\n",
       "      'indonesian': '2.00',\n",
       "      'hongkong': '2.00'}},\n",
       "    {'id': '695531999',\n",
       "     'description': 'No',\n",
       "     'status': 'O',\n",
       "     'type': 'X',\n",
       "     'price': {'id': '6186873441',\n",
       "      'american': '-275',\n",
       "      'decimal': '1.363636',\n",
       "      'fractional': '4/11',\n",
       "      'malay': '0.36',\n",
       "      'indonesian': '-2.75',\n",
       "      'hongkong': '0.36'}}]}],\n",
       " 'order': 12}"
      ]
     },
     "execution_count": 62,
     "metadata": {},
     "output_type": "execute_result"
    }
   ],
   "source": [
    "data[4]"
   ]
  },
  {
   "cell_type": "code",
   "execution_count": 63,
   "metadata": {},
   "outputs": [],
   "source": [
    "soccer_set = requests.get('https://www.bovada.lv/services/sports/event/v2/events/A/description/soccer', headers = headers).json()"
   ]
  },
  {
   "cell_type": "code",
   "execution_count": null,
   "metadata": {},
   "outputs": [],
   "source": []
  },
  {
   "cell_type": "code",
   "execution_count": 74,
   "metadata": {},
   "outputs": [
    {
     "data": {
      "text/plain": [
       "['1 Liga',\n",
       " '1. Deild',\n",
       " '2.delid',\n",
       " '3 Liga',\n",
       " '3. Liga',\n",
       " 'Adeccoligaen',\n",
       " 'Allsvenskan',\n",
       " 'Australia A-League',\n",
       " 'Austria Landesliga',\n",
       " 'Austrian 2. Landesliga',\n",
       " 'Battle - Champions League B 2 x 4 mins',\n",
       " 'Botola Pro',\n",
       " 'Brazil Campeonato Brasileiro Serie D',\n",
       " 'Bundesliga',\n",
       " 'Bundesliga 2',\n",
       " 'Bundesliga W',\n",
       " 'Cambodia Cup',\n",
       " 'China Super League',\n",
       " 'Club Friendlies',\n",
       " 'Croatian Cup',\n",
       " 'Cyber World Cup 2 x 5 mins',\n",
       " 'Czech Republic Cup',\n",
       " 'DBU Pokalen',\n",
       " 'DFB Pokal',\n",
       " 'Division 1',\n",
       " 'Dutch Eredivisie',\n",
       " 'EFL Cup',\n",
       " 'EFL Trophy',\n",
       " 'Eerste Divisie',\n",
       " 'Eerste Klasse A',\n",
       " 'Eliteserien',\n",
       " 'England Premier League',\n",
       " 'England Premier League Season 2020/21',\n",
       " 'English Championship',\n",
       " 'Esiliiga A',\n",
       " 'Euro 2020 Qualifying',\n",
       " 'FIFA World Cup 2022',\n",
       " 'France Ligue 1',\n",
       " 'Friendlies National Teams',\n",
       " 'Futures',\n",
       " 'Futures',\n",
       " 'Futures',\n",
       " 'Futures',\n",
       " 'Germany Bundesliga',\n",
       " 'II Liga',\n",
       " 'III Liga',\n",
       " 'Italy Serie A',\n",
       " 'J-League 2',\n",
       " 'J3 League',\n",
       " 'Japan J1 League',\n",
       " 'Jia League One',\n",
       " 'KNVB beker',\n",
       " 'Kolmonen Division 3',\n",
       " 'LOI 1st Division',\n",
       " 'LOI Premier Division',\n",
       " 'LaLiga2',\n",
       " 'League 2',\n",
       " 'League Cup',\n",
       " 'League One',\n",
       " 'League Two',\n",
       " 'Liga 2',\n",
       " 'Liga 3',\n",
       " 'Liga de Expansion MX',\n",
       " 'Major League Soccer',\n",
       " 'NM Cupen Women',\n",
       " 'National League',\n",
       " 'National League North',\n",
       " 'National League South',\n",
       " 'New South Wales NPL Youth League',\n",
       " 'Non League Premier - Isthmian',\n",
       " 'Northern Premier League',\n",
       " 'Oberliga Hamburg',\n",
       " 'Oberliga Hessen',\n",
       " 'Oberliga Niederrhein',\n",
       " 'Paranaense 2',\n",
       " 'Persha Liga',\n",
       " 'Poland Ekstraklasa',\n",
       " 'Premier League',\n",
       " 'Premier League',\n",
       " 'Premier League',\n",
       " 'Primera A',\n",
       " 'Primera Division Apertura',\n",
       " 'QSL Cup',\n",
       " 'Qualification - Group 1',\n",
       " 'Queensland League',\n",
       " 'Reg. Cup Hessen',\n",
       " 'Regional Cup Landespokal',\n",
       " 'Regional Liga West',\n",
       " 'Regionalliga North',\n",
       " 'Regionalliga West',\n",
       " 'STFV Cup',\n",
       " 'Segunda División',\n",
       " 'Serie B',\n",
       " 'Serie D',\n",
       " 'Southern Premier League Center',\n",
       " 'Southern Premier League Premier Division South',\n",
       " 'Spain La Liga',\n",
       " 'Special Parlays',\n",
       " 'Sudan Premier League',\n",
       " 'Superettan',\n",
       " 'Superligaen',\n",
       " 'Svenska Cupen Women',\n",
       " 'Swedish Cup',\n",
       " 'Série A',\n",
       " 'Série B',\n",
       " 'UEFA Euro 2021 Futures',\n",
       " 'UEFA Europa League',\n",
       " 'UEFA Nations League',\n",
       " 'USL League One',\n",
       " 'Veikkausliiga',\n",
       " 'World Cup 2022. Qualification']"
      ]
     },
     "execution_count": 74,
     "metadata": {},
     "output_type": "execute_result"
    }
   ],
   "source": [
    "league_list = []\n",
    "for x in soccer_set:\n",
    "    league_list.append(x['path'][0]['description'])\n",
    "league_list.sort()\n",
    "league_list"
   ]
  },
  {
   "cell_type": "code",
   "execution_count": null,
   "metadata": {},
   "outputs": [],
   "source": []
  },
  {
   "cell_type": "code",
   "execution_count": null,
   "metadata": {},
   "outputs": [],
   "source": []
  },
  {
   "cell_type": "code",
   "execution_count": null,
   "metadata": {},
   "outputs": [],
   "source": []
  }
 ],
 "metadata": {
  "kernelspec": {
   "display_name": "Python 3",
   "language": "python",
   "name": "python3"
  }
 },
 "nbformat": 4,
 "nbformat_minor": 4
}
